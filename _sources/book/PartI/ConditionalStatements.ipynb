{
 "cells": [
  {
   "cell_type": "markdown",
   "metadata": {},
   "source": [
    "# Conditional Statements"
   ]
  },
  {
   "cell_type": "markdown",
   "metadata": {},
   "source": [
    "**Conditional Statements** in python are used for flow control. Let's learn flow control through **`if`, `elif`, `else`** ."
   ]
  },
  {
   "cell_type": "markdown",
   "metadata": {},
   "source": [
    "## Basic `if` Statement\n",
    "It checks the condition and executes the code if the condition is **`True`**. Please pay attention to the **`:`** after the condition for correct syntax."
   ]
  },
  {
   "cell_type": "code",
   "execution_count": 1,
   "metadata": {},
   "outputs": [
    {
     "name": "stdout",
     "output_type": "stream",
     "text": [
      "The number is positive.\n"
     ]
    }
   ],
   "source": [
    "num = 5\n",
    "if num > 0:\n",
    "    print(\"The number is positive.\")"
   ]
  },
  {
   "cell_type": "markdown",
   "metadata": {},
   "source": [
    "## `if` with `else`\n",
    "Executes one code block if condition is `True` and another if condition is `False`"
   ]
  },
  {
   "cell_type": "code",
   "execution_count": 2,
   "metadata": {},
   "outputs": [
    {
     "name": "stdout",
     "output_type": "stream",
     "text": [
      "You cannot vote yet.\n"
     ]
    }
   ],
   "source": [
    "age = 16\n",
    "if age >= 18:\n",
    "    print(\"You can vote!\")\n",
    "else:\n",
    "    print(\"You cannot vote yet.\")"
   ]
  },
  {
   "cell_type": "markdown",
   "metadata": {},
   "source": [
    "## `if`, `elif`, `else` (Multiple Conditions)\n",
    "In the code below change the marks and observe the execution and expected output **Grade**"
   ]
  },
  {
   "cell_type": "code",
   "execution_count": null,
   "metadata": {},
   "outputs": [],
   "source": [
    "marks = 75\n",
    "if marks >= 90:\n",
    "    print(\"Grade: A\")\n",
    "elif marks >= 70:\n",
    "    print(\"Grade: B\")\n",
    "elif marks >= 50:\n",
    "    print(\"Grade: C\")\n",
    "else:\n",
    "    print(\"Grade: Fail\")"
   ]
  },
  {
   "cell_type": "markdown",
   "metadata": {},
   "source": [
    "## Nested if Statements\n",
    "An `if` inside another `if`."
   ]
  },
  {
   "cell_type": "code",
   "execution_count": 1,
   "metadata": {},
   "outputs": [
    {
     "name": "stdout",
     "output_type": "stream",
     "text": [
      "The number is positive and even.\n"
     ]
    }
   ],
   "source": [
    "num = 10\n",
    "if num > 0:\n",
    "    if num % 2 == 0:\n",
    "        print(\"The number is positive and even.\")\n",
    "    else:\n",
    "        print(\"The number is positive but odd.\")\n",
    "else:\n",
    "    print(\"The number is not positive.\")"
   ]
  },
  {
   "cell_type": "markdown",
   "metadata": {},
   "source": [
    "## `if` with Logical Operators (`and`, `or`, `not`)"
   ]
  },
  {
   "cell_type": "code",
   "execution_count": 2,
   "metadata": {},
   "outputs": [
    {
     "name": "stdout",
     "output_type": "stream",
     "text": [
      "Login successful!\n"
     ]
    }
   ],
   "source": [
    "username = \"admin\"\n",
    "password = \"12345\"\n",
    "if username == \"admin\" and password == \"12345\":\n",
    "    print(\"Login successful!\")\n",
    "else:\n",
    "    print(\"Invalid credentials.\")"
   ]
  },
  {
   "cell_type": "markdown",
   "metadata": {},
   "source": [
    "## `elif` vs Multiple `if` Statements\n",
    "`elif`:  Only one block runs (stops after first match).  \n",
    "\n",
    "**Multiple ifs** :  Each condition is checked independently.\n",
    "Let's clarify this with help of an example."
   ]
  },
  {
   "cell_type": "code",
   "execution_count": null,
   "metadata": {},
   "outputs": [
    {
     "name": "stdout",
     "output_type": "stream",
     "text": [
      "Greater than 5 but ≤ 20\n",
      "Using multiple ifs (all conditions checked\n",
      "Greater than 5\n",
      "Greater than 0\n"
     ]
    }
   ],
   "source": [
    "# Using elif (only one condition runs)\n",
    "x = 10\n",
    "if x > 20:\n",
    "    print(\"Greater than 20\")\n",
    "elif x > 5:\n",
    "    print(\"Greater than 5 but ≤ 20\")  # Only this runs\n",
    "elif x > 0:\n",
    "    print(\"Greater than 0 but ≤ 5\")\n",
    "\n",
    "# Using multiple ifs (all conditions checked)\n",
    "print(\"Using multiple ifs (all conditions checked\")\n",
    "\n",
    "if x > 5:\n",
    "    print(\"Greater than 5\")  # Runs\n",
    "if x > 0:\n",
    "    print(\"Greater than 0\")  # Also runs"
   ]
  }
 ],
 "metadata": {
  "kernelspec": {
   "display_name": "base",
   "language": "python",
   "name": "python3"
  },
  "language_info": {
   "codemirror_mode": {
    "name": "ipython",
    "version": 3
   },
   "file_extension": ".py",
   "mimetype": "text/x-python",
   "name": "python",
   "nbconvert_exporter": "python",
   "pygments_lexer": "ipython3",
   "version": "3.13.2"
  }
 },
 "nbformat": 4,
 "nbformat_minor": 2
}
