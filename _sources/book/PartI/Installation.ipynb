{
 "cells": [
  {
   "cell_type": "markdown",
   "id": "78d72f5f",
   "metadata": {},
   "source": [
    "# Installation & Setup Guide"
   ]
  },
  {
   "cell_type": "markdown",
   "id": "4542f0dc",
   "metadata": {},
   "source": [
    "This installation and Setup guide will help begineers to install python , setup the environiment and start coding in a convenient way. Let's gets started."
   ]
  },
  {
   "cell_type": "markdown",
   "id": "a631ec64",
   "metadata": {},
   "source": [
    "## Option 1:\n",
    "### Install Python from Official Website\n",
    "1. Visit python.org.\n",
    "2. Download the latest version for your OS (Windows/macOS/Linux).\n",
    "3. Run the installer:\n",
    "4. Check \"Add Python to PATH\" (Windows).\n",
    "5. Verify installation: open termminal and enter."
   ]
  },
  {
   "cell_type": "code",
   "execution_count": 9,
   "id": "13161328",
   "metadata": {},
   "outputs": [
    {
     "name": "stdout",
     "output_type": "stream",
     "text": [
      "Hello, Python!\n"
     ]
    }
   ],
   "source": [
    "print(\"Hello, Python!\")  "
   ]
  },
  {
   "cell_type": "markdown",
   "id": "7c94a224",
   "metadata": {},
   "source": [
    "## Option 2:\n",
    "### Anaconda or Miniconda\n",
    "\n",
    "1. These are Package manager for Python/R.\n",
    "2. It has Pre-installed data science libraries (NumPy, Pandas, etc.).\n",
    "\n",
    "### Installation:\n",
    "1. Download Anaconda or Miniconda.\n",
    "2. Run the installer.\n",
    "3. Verify:"
   ]
  },
  {
   "cell_type": "code",
   "execution_count": 1,
   "id": "b56f10ee",
   "metadata": {},
   "outputs": [
    {
     "name": "stdout",
     "output_type": "stream",
     "text": [
      "conda 24.9.2\n",
      "\n",
      "Note: you may need to restart the kernel to use updated packages.\n"
     ]
    }
   ],
   "source": [
    "conda --version"
   ]
  },
  {
   "cell_type": "markdown",
   "id": "326ee76b",
   "metadata": {},
   "source": [
    "### Creating conda (virtual environiment)\n",
    "The virtual environiment are created to have Isolate project dependencies and you can avoid packages incompatibility issues."
   ]
  },
  {
   "cell_type": "code",
   "execution_count": null,
   "id": "5017f0af",
   "metadata": {},
   "outputs": [],
   "source": [
    "conda create --name myenv python=3.10  \n",
    "conda activate myenv  "
   ]
  },
  {
   "cell_type": "markdown",
   "id": "505e08dc",
   "metadata": {},
   "source": [
    "### IDEs for Python\n",
    "if you have created your virtual environiment with conda its time to install packages.  \n"
   ]
  },
  {
   "cell_type": "code",
   "execution_count": null,
   "id": "6b030eb3",
   "metadata": {},
   "outputs": [],
   "source": [
    "conda install pip # pip is a package manner if not already installed."
   ]
  },
  {
   "cell_type": "markdown",
   "id": "7c0218ec",
   "metadata": {},
   "source": [
    "### Jupyter Lab\n",
    " Install jupyter lab with command pip install jupyter lab"
   ]
  },
  {
   "cell_type": "code",
   "execution_count": null,
   "id": "bebe74ae",
   "metadata": {},
   "outputs": [],
   "source": [
    "pip install jupyter lab"
   ]
  },
  {
   "cell_type": "markdown",
   "id": "90edd7ac",
   "metadata": {},
   "source": [
    "### Launch jupyter Lab"
   ]
  },
  {
   "cell_type": "code",
   "execution_count": null,
   "id": "cedd532b",
   "metadata": {},
   "outputs": [],
   "source": [
    "jupyter lab"
   ]
  },
  {
   "cell_type": "markdown",
   "id": "7a6ccff7",
   "metadata": {},
   "source": [
    "### Jupyter Notebook\n",
    "Install jupyter notebook with command pip install jupyter notebook"
   ]
  },
  {
   "cell_type": "code",
   "execution_count": null,
   "id": "796cac81",
   "metadata": {},
   "outputs": [],
   "source": [
    "pip install jupyter notebook"
   ]
  },
  {
   "cell_type": "markdown",
   "id": "07e7ca7a",
   "metadata": {},
   "source": [
    "### Launch the Jupyter Notebook"
   ]
  },
  {
   "cell_type": "code",
   "execution_count": null,
   "id": "9dc9cec3",
   "metadata": {},
   "outputs": [],
   "source": [
    "jupyter notebook"
   ]
  },
  {
   "cell_type": "markdown",
   "id": "d6b7ec42",
   "metadata": {},
   "source": [
    "### VS Code\n",
    "\n",
    "1. Download [VS Code](https://code.visualstudio.com/).\n",
    "2. Install the Python Extension.\n",
    "3. Install the jupyter Extension.\n",
    "3. Open a new file and start coding!"
   ]
  },
  {
   "cell_type": "markdown",
   "id": "a373e3ed",
   "metadata": {},
   "source": [
    "### Google Colab\n",
    "1. No installation needed.\n",
    "2. Visit [colab.research.google.com](https://colab.research.google.com/).\n",
    "3. Write code directly in the browser."
   ]
  }
 ],
 "metadata": {
  "jupytext": {
   "formats": "ipynb,md"
  },
  "kernelspec": {
   "display_name": "Python 3 (ipykernel)",
   "language": "python",
   "name": "python3"
  },
  "language_info": {
   "codemirror_mode": {
    "name": "ipython",
    "version": 3
   },
   "file_extension": ".py",
   "mimetype": "text/x-python",
   "name": "python",
   "nbconvert_exporter": "python",
   "pygments_lexer": "ipython3",
   "version": "3.13.2"
  },
  "widgets": {
   "application/vnd.jupyter.widget-state+json": {
    "state": {},
    "version_major": 2,
    "version_minor": 0
   }
  }
 },
 "nbformat": 4,
 "nbformat_minor": 5
}
